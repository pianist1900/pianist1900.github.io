{
 "cells": [
  {
   "cell_type": "markdown",
   "id": "a7954fc6",
   "metadata": {},
   "source": [
    "## python基础\n",
    "1. 基础的基础\n",
    "    - 从print开始\n",
    "    - 变量\n",
    "    - 行与缩进\n",
    "    - 注释\n",
    "2. 基本数据类型(number、string、list、tuple、dic,set)\n",
    "    - number相互转化\n",
    "    - 字符运算，数字的相互计算(+,-,*,/,%,**,//)\n",
    "    - 字符串(拼接，索引index，slice，常见的命令),字符串常见命令：split,join,strip,replace,lower,upper,len\n",
    "    - 列表list，常见命令(create,index,slice,copy,in, not in,append,remove,pop)\n",
    "    - 元组tuple，类似这样结构，相校list，不能修改()\n",
    "    - 字典dic,key==>value(可以任意数据), dic = {key1:value1,key2:value2}\n",
    "    - set\n",
    "3. 条件控制control\n",
    "    - if-else,判断执行，\n",
    "    - for\n",
    "    - while\n",
    "    - try-except\n",
    "\n"
   ]
  },
  {
   "cell_type": "markdown",
   "id": "a158283e",
   "metadata": {},
   "source": [
    "### 第一个程序，基础的基础"
   ]
  },
  {
   "cell_type": "code",
   "execution_count": 98,
   "id": "d2952291",
   "metadata": {},
   "outputs": [
    {
     "name": "stdout",
     "output_type": "stream",
     "text": [
      "Hello world\n",
      "life is short, but i use python\n",
      "292930\n",
      "my name is gong\n",
      "my name is zhang\n"
     ]
    }
   ],
   "source": [
    "# 从print开始第一个程序\n",
    "print('Hello world')\n",
    "print('life is short, but i use python')\n",
    "print('292930')\n",
    "print('my name is gong')\n",
    "print('my name is zhang')"
   ]
  },
  {
   "cell_type": "code",
   "execution_count": 99,
   "id": "8264fbe6",
   "metadata": {},
   "outputs": [
    {
     "name": "stdout",
     "output_type": "stream",
     "text": [
      "Gong\n",
      "zhang\n",
      "['False', 'None', 'True', '__peg_parser__', 'and', 'as', 'assert', 'async', 'await', 'break', 'class', 'continue', 'def', 'del', 'elif', 'else', 'except', 'finally', 'for', 'from', 'global', 'if', 'import', 'in', 'is', 'lambda', 'nonlocal', 'not', 'or', 'pass', 'raise', 'return', 'try', 'while', 'with', 'yield']\n"
     ]
    }
   ],
   "source": [
    "# 变量\n",
    "name = 'Gong'\n",
    "print(name)\n",
    "name = 'zhang'\n",
    "print(name)\n",
    "# 第一个字符必须以字母（a-z, A-Z）或下划线 _ 。标识符的其他的部分由字母、数字和下划线组成。\n",
    "age = 20\n",
    "size = 'large'\n",
    "\n",
    "'''\n",
    "2nd_place = \"silver\"    # 错误：以数字开头\n",
    "user-name = \"Bob\"       # 错误：包含连字符\n",
    "$price = 9.99          # 错误：包含特殊字符\n",
    "class = \"Math\"          # 错误：使用关键字\n",
    "for = \"loop\"           # 错误：使用关键字\n",
    "'''\n",
    "\n",
    "import keyword\n",
    "print(keyword.kwlist)\n",
    "\n"
   ]
  },
  {
   "cell_type": "code",
   "execution_count": 100,
   "id": "44b6db5f",
   "metadata": {},
   "outputs": [
    {
     "data": {
      "text/plain": [
       "'\\n与单引号\\n注释一致\\n'"
      ]
     },
     "execution_count": 100,
     "metadata": {},
     "output_type": "execute_result"
    }
   ],
   "source": [
    "# 注释\n",
    "# 以#开头的，后面都是注释，注释不执行，可在程序前，也可在程序后\n",
    "\n",
    "# 这里是注释\n",
    "# 这里还是注释\n",
    "\n",
    "#以''' 内容 '''进行注释，可以是单引号，也可以是双引号 \n",
    "'''\n",
    "这里是一大段注释\n",
    "通常用于大程序的前期描述\n",
    "或者独立程序的描述\n",
    "'''\n",
    " \n",
    "\"\"\"\n",
    "与单引号\n",
    "注释一致\n",
    "\"\"\"\n"
   ]
  },
  {
   "cell_type": "code",
   "execution_count": null,
   "id": "268e0ac9",
   "metadata": {},
   "outputs": [
    {
     "name": "stdout",
     "output_type": "stream",
     "text": [
      "True\n"
     ]
    }
   ],
   "source": [
    "# 换行与缩进\n",
    "# python最具特色的就是使用缩进来表示代码块，通常为一个tab\n",
    "if True:\n",
    "    print (\"True\")\n",
    "else:\n",
    "    print (\"False\")\n",
    "\n",
    "item_one = 1\n",
    "item_two = 2\n",
    "item_three = 3\n",
    "\n",
    "total = item_one + \\\n",
    "    item_two + \\\n",
    "    item_three"
   ]
  },
  {
   "cell_type": "markdown",
   "id": "f5a2a1f2",
   "metadata": {},
   "source": [
    "### 基本数据类型"
   ]
  },
  {
   "cell_type": "code",
   "execution_count": 102,
   "id": "fe3aadfc",
   "metadata": {},
   "outputs": [
    {
     "name": "stdout",
     "output_type": "stream",
     "text": [
      "8\n",
      "8000000\n",
      "8.52452\n",
      "0.0082\n",
      "0.0082\n",
      "4.3478260869565215\n",
      "4\n",
      "0.6666666666666666\n"
     ]
    },
    {
     "data": {
      "text/plain": [
       "0.67"
      ]
     },
     "execution_count": 102,
     "metadata": {},
     "output_type": "execute_result"
    }
   ],
   "source": [
    "# two style of int\n",
    "x = 8\n",
    "print(x)\n",
    "x = 8_000_000\n",
    "print(x)\n",
    "\n",
    "#two style of float\n",
    "y = 8.52452\n",
    "print(y)\n",
    "y = 8.2e-3\n",
    "print(y)\n",
    "\n",
    "#int float convert\n",
    "c = 8.5544\n",
    "int(c)\n",
    "c = 900\n",
    "float(c)\n",
    "\n",
    "#type check\n",
    "type(c)\n",
    "\n",
    "#int and float support arithmetic(+,-,*,/,%,//)\n",
    "xy = 5*5\n",
    "print(y)\n",
    "x1 = 100\n",
    "y1 = 23\n",
    "print(x1/y1)\n",
    "print(int(x1/y1))\n",
    "\n",
    "\n",
    "#demical \n",
    "x2 = 4\n",
    "y2 = 6\n",
    "xy2 = x2/y2\n",
    "print(xy2)\n",
    "round(xy2,2)"
   ]
  },
  {
   "cell_type": "code",
   "execution_count": 103,
   "id": "85a4122e",
   "metadata": {},
   "outputs": [
    {
     "name": "stdout",
     "output_type": "stream",
     "text": [
      "T\n",
      "n\n",
      "his\n",
      " is a string\n",
      "This is a \n"
     ]
    }
   ],
   "source": [
    "# in''\n",
    "string1 = 'This is a string'\n",
    "string2 = 'and'\n",
    "string3 = '300'\n",
    "\n",
    "# print(string1)\n",
    "# print(string2)\n",
    "# print(string3)\n",
    "# print(len(string3))\n",
    "# string4 = string1+' '+string2+string3\n",
    "# print(string4)\n",
    "\n",
    "print(string1[0])\n",
    "print(string1[-2])\n",
    "print(string1[1:4])\n",
    "print(string1[4:])\n",
    "print(string1[:-6])"
   ]
  },
  {
   "cell_type": "code",
   "execution_count": 104,
   "id": "b4310a79",
   "metadata": {},
   "outputs": [
    {
     "name": "stdout",
     "output_type": "stream",
     "text": [
      "Remove unwanted chararcters form this string.\n"
     ]
    }
   ],
   "source": [
    "string6 = '   $$$ Remove unwanted chararcters form this string.\\t\\t       \\n+++___   ' \n",
    "# string6_1 = string6.strip()\n",
    "# string6_1 = string6.lstrip()\n",
    "# string6_1 = string6.rstrip()\n",
    "# print(string6_1)\n",
    "string6_1 = string6.strip(' $_-+\\n\\t') ###if start or end with $_-+\n",
    "print(string6_1)\n"
   ]
  },
  {
   "cell_type": "code",
   "execution_count": 105,
   "id": "5147c7b9",
   "metadata": {},
   "outputs": [
    {
     "name": "stdout",
     "output_type": "stream",
     "text": [
      "replace_the_space_in_this_sentence\n"
     ]
    }
   ],
   "source": [
    "string7 = 'replace the space in this sentence'\n",
    "string7_1 = string7.replace(' ','_')\n",
    "print(string7_1)\n"
   ]
  },
  {
   "cell_type": "code",
   "execution_count": 106,
   "id": "947ad8fa",
   "metadata": {},
   "outputs": [
    {
     "name": "stdout",
     "output_type": "stream",
     "text": [
      "ALPHER\n",
      "alpher\n",
      "TRUE\n"
     ]
    }
   ],
   "source": [
    "#lower ,upper,capitalize\n",
    "aa = 'Alpher'\n",
    "AA = 'alpher'\n",
    "if AA == aa:\n",
    "    print('True')\n",
    "print(aa.upper())\n",
    "print(aa.lower())\n",
    "if AA.upper() == aa.upper():\n",
    "    print('TRUE')"
   ]
  },
  {
   "cell_type": "code",
   "execution_count": 107,
   "id": "aef5a476",
   "metadata": {},
   "outputs": [
    {
     "name": "stdout",
     "output_type": "stream",
     "text": [
      "i'm good\n",
      "i'm good\n",
      "happy new year!\n",
      "\n"
     ]
    }
   ],
   "source": [
    "# \\ use in string\n",
    "s_str = \"i'm good\"\n",
    "s_str1 = 'i\\'m good'\n",
    "print(s_str)\n",
    "print(s_str1)\n",
    "\n",
    "#special \\t, \\n\n",
    "print('happy new year!\\n')"
   ]
  },
  {
   "cell_type": "code",
   "execution_count": 108,
   "id": "5a84323e",
   "metadata": {},
   "outputs": [
    {
     "name": "stdout",
     "output_type": "stream",
     "text": [
      "Hi,Gong,you looks good, you have 10000.22.\n",
      "Hi,Gong,you looks good, you have 202311.0.\n",
      "Hi,Gong,you looks good ,and you have 1000000.0\n"
     ]
    }
   ],
   "source": [
    "#use format\n",
    "'Hi, %s, you have $%d.'%(s_str, 10000000) # here %s stand for str，%d stand for int, %f for float\n",
    "\n",
    "print('Hi,{0},you looks good, you have {1:.2f}.'.format('Gong',10000.22))\n",
    "print('Hi,{0},you looks good, you have {2:.1f}.'.format('Gong',10000.22,202311))\n",
    "# another kind of way\n",
    "name = 'Gong'\n",
    "goods = 1000000\n",
    "print(f'Hi,{name},you looks good ,and you have {goods:.1f}')"
   ]
  },
  {
   "cell_type": "code",
   "execution_count": 109,
   "id": "f53dd049",
   "metadata": {},
   "outputs": [
    {
     "name": "stdout",
     "output_type": "stream",
     "text": [
      "['This', 'is', 'a', 'test', 'for', 'split']\n",
      "['This', 'is', 'a test for split']\n",
      "['This', 'is', 'a', 'another', 'test', 'for', 'split']\n",
      "['昆明市空气质量小时数据', '2022年01月-05月)']\n",
      "['2022年01月-05月', '']\n",
      "2022年01月-05月\n",
      "2022年01月-05月\n"
     ]
    }
   ],
   "source": [
    "# string5 = string1+str(50)\n",
    "# print(string5)\n",
    "# print(string1.join(string3))\n",
    "\n",
    "#split\n",
    "string5 = 'This is a test for split'\n",
    "string5_1 = string5.split(' ')\n",
    "print(string5_1)\n",
    "string5_2 = string5.split(' ',2) #split only 2\n",
    "print(string5_2)\n",
    "string6 = 'This,is,a,another,test,for,split'\n",
    "string6_1 = string6.split(',')\n",
    "print(string6_1)\n",
    "\n",
    "# #example\n",
    "filename = '昆明市空气质量小时数据(2022年01月-05月)'\n",
    "s_output = filename.split('(')\n",
    "print(s_output)\n",
    "s_output = s_output[1].split(')')\n",
    "print(s_output)\n",
    "print(s_output[0])\n",
    "#another way\n",
    "file_out = filename[12:-1]\n",
    "print(file_out)"
   ]
  },
  {
   "cell_type": "code",
   "execution_count": 110,
   "id": "ddc0c21b",
   "metadata": {},
   "outputs": [],
   "source": [
    "#homework 1，运行一遍上面的程序\n",
    "#homework 2\n",
    "columns_name = ' 烷烃-乙烷(ppb) ' #output 乙烷, two way.\n",
    "#homework 3\n",
    "#输出一段结果，采用format格式，包含自己的名字和身高，或其他的数字信息，要求两位小数"
   ]
  },
  {
   "cell_type": "code",
   "execution_count": 111,
   "id": "059a21ca",
   "metadata": {},
   "outputs": [],
   "source": [
    "# a basic list\n",
    "list1 = [1,2,3,4,5]\n",
    "list2 = ['a','b','c','d','e']\n",
    "a_list = [12,13,'data','today',['你','真棒'],12]\n",
    "\n",
    "# print(a_list[4]) #index\n",
    "# print(a_list[1:3])   #slice\n",
    "# print(a_list.index(['你', '真棒'])) #if we don't know the index,return 1st one\n",
    "# print(a_list.index(12))\n",
    "# print(a_list[-2][0])\n",
    "\n",
    "# # creat an empty list\n",
    "# e_list = []\n",
    "\n",
    "# #add in list\n",
    "# e_list.append('one') #添加到后面\n",
    "# e_list.append(17)\n",
    "# e_list.append(['我们','真棒'])\n",
    "# print(e_list)\n",
    "# print(type(e_list))\n",
    "\n",
    "# #list copy\n",
    "# c_list = a_list.copy()\n",
    "# print(c_list)\n",
    "\n",
    "# #list concat\n",
    "# d_list = list1+list2\n",
    "# print(d_list)\n",
    "# print([list1,list2])\n",
    "\n",
    "#list change parameter\n",
    "# a_list[-2] = ['xxx', '真棒']\n",
    "# print(a_list)\n",
    "\n",
    "# delete,use pop\n",
    "# print(a_list)\n",
    "# re = a_list.pop(-2) #序号删除\n",
    "# print(re)\n",
    "# print(a_list)\n",
    "\n",
    "#delete,use remove\n",
    "# re = a_list.remove(13) #值删除\n",
    "# print(re)\n",
    "# print(a_list.remove(12)) #delete 1st one\n",
    "# print(a_list)\n",
    "\n"
   ]
  },
  {
   "cell_type": "code",
   "execution_count": 112,
   "id": "0c5d33c2",
   "metadata": {},
   "outputs": [],
   "source": [
    "a_list = [12,13,'data','today',['你','真棒'],12]\n",
    "if 14 in a_list:\n",
    "    print('True')\n",
    "\n",
    "if 12 not in a_list:\n",
    "    print('True')"
   ]
  },
  {
   "cell_type": "code",
   "execution_count": 113,
   "id": "b41a3842",
   "metadata": {},
   "outputs": [
    {
     "name": "stdout",
     "output_type": "stream",
     "text": [
      "17\n",
      "11\n",
      "2\n",
      "3\n",
      "b_list has 17 elements.\n"
     ]
    }
   ],
   "source": [
    "# use len\n",
    "b_list = [2,3,4,5,6,7,8,5,4,7,10,3,3,2,5,6,11]\n",
    "print(len(b_list))\n",
    "print(max(b_list))\n",
    "print(min(b_list))\n",
    "print(b_list.count(3))\n",
    "\n",
    "print('b_list has {} elements.'.format(len(b_list)))#len,max,min,count\n"
   ]
  },
  {
   "cell_type": "markdown",
   "id": "11f00147",
   "metadata": {},
   "source": [
    "## tuple"
   ]
  },
  {
   "cell_type": "code",
   "execution_count": 114,
   "id": "08e5bbc6",
   "metadata": {},
   "outputs": [
    {
     "name": "stdout",
     "output_type": "stream",
     "text": [
      "(1, 2, 3, 4, 5)\n",
      "<class 'tuple'>\n",
      "('a', 'b', 'c', 'd', 'e')\n",
      "a\n"
     ]
    },
    {
     "ename": "NameError",
     "evalue": "name 'tup2' is not defined",
     "output_type": "error",
     "traceback": [
      "\u001b[0;31m---------------------------------------------------------------------------\u001b[0m",
      "\u001b[0;31mNameError\u001b[0m                                 Traceback (most recent call last)",
      "Cell \u001b[0;32mIn[114], line 10\u001b[0m\n\u001b[1;32m      8\u001b[0m \u001b[38;5;66;03m#delete tuple element,delete all tuple\u001b[39;00m\n\u001b[1;32m      9\u001b[0m \u001b[38;5;28;01mdel\u001b[39;00m tup2\n\u001b[0;32m---> 10\u001b[0m \u001b[38;5;28mprint\u001b[39m(\u001b[43mtup2\u001b[49m)\n",
      "\u001b[0;31mNameError\u001b[0m: name 'tup2' is not defined"
     ]
    }
   ],
   "source": [
    "tup1 = (1,2,3,4,5)\n",
    "tup2 = 'a','b','c','d','e'\n",
    "print(tup1)\n",
    "print(type(tup1))\n",
    "print(tup2)\n",
    "print(tup2[0])\n",
    "\n",
    "#delete tuple element,delete all tuple\n",
    "del tup2\n",
    "print(tup2)"
   ]
  },
  {
   "cell_type": "markdown",
   "id": "676b9ffc",
   "metadata": {},
   "source": [
    "## dic(create,key,values,len)"
   ]
  },
  {
   "cell_type": "code",
   "execution_count": null,
   "id": "1f64a459",
   "metadata": {},
   "outputs": [
    {
     "name": "stdout",
     "output_type": "stream",
     "text": [
      "{'Name': 'Gong', 'number': '1292847', 'ID': '365739', 'hobby': ['basketball', 'reading']}\n",
      "4\n",
      "Gong\n",
      "dict_keys(['Name', 'number', 'ID', 'hobby'])\n",
      "dict_values(['Gong', '1292847', '365739', ['basketball', 'reading']])\n",
      "dict_items([('Name', 'Gong'), ('number', '1292847'), ('ID', '365739'), ('hobby', ['basketball', 'reading'])])\n",
      "{'Name': 'Gong', 'number': '1292847', 'ID': '365739', 'hobby': ['basketball', 'reading'], 'Height': 171}\n",
      "{'Name': 'Gong', 'number': '1292847', 'ID': '365739', 'hobby': ['basketball', 'reading']}\n",
      "Gong\n"
     ]
    }
   ],
   "source": [
    "dict1 = {'Name':'Gong','number':'1292847','ID':'365739','hobby':['basketball','reading']}\n",
    "print(dict1)\n",
    "#create empty dict\n",
    "e_dict = {}\n",
    "\n",
    "print(len(dict1))\n",
    "print(dict1['Name'])\n",
    "print(dict1.keys())\n",
    "print(dict1.values())\n",
    "print(dict1.items())\n",
    "\n",
    "#add element\n",
    "dict1['Height'] = 171\n",
    "print(dict1)\n",
    "\n",
    "#remove element\n",
    "re = dict1.pop('Height')\n",
    "print(dict1)\n",
    "\n",
    "print(dict1.get('Name'))"
   ]
  },
  {
   "cell_type": "markdown",
   "id": "a738066c",
   "metadata": {},
   "source": [
    "## control"
   ]
  },
  {
   "cell_type": "code",
   "execution_count": null,
   "id": "69a3c551",
   "metadata": {},
   "outputs": [
    {
     "name": "stdout",
     "output_type": "stream",
     "text": [
      "[12, 13, 'data', 'today', ['你', '真棒'], 12]\n",
      "not in\n"
     ]
    }
   ],
   "source": [
    "# if\n",
    "print(a_list)\n",
    "if 3 in a_list:\n",
    "    a_list.append('new')\n",
    "    print(a_list)\n",
    "else:\n",
    "    print('not in')"
   ]
  },
  {
   "cell_type": "code",
   "execution_count": null,
   "id": "7f107559",
   "metadata": {},
   "outputs": [],
   "source": [
    "# if elif：\n",
    "aqi = 130\n",
    "if aqi < 100:\n",
    "    print('a litter than 100')\n",
    "elif aqi < 200:\n",
    "    print('a is between 100 and 200')\n",
    "elif aqi < 300:\n",
    "    print('a is between 200 and 300')\n",
    "else:\n",
    "    print('Done')\n"
   ]
  },
  {
   "cell_type": "code",
   "execution_count": null,
   "id": "87af0f05",
   "metadata": {},
   "outputs": [
    {
     "name": "stdout",
     "output_type": "stream",
     "text": [
      "range(1, 12, 3)\n",
      "1\n",
      "4\n",
      "7\n",
      "10\n",
      "['Jan_', 'Feb_', 'Mar_', 'Apr_', 'May_', 'Jun_', 'Jul_', 'Aug_', 'Sep_', 'Oct_', 'Nov_', 'Dec_']\n"
     ]
    }
   ],
   "source": [
    "#use for\n",
    "\n",
    "# for x in a_list:\n",
    "#     print(x)\n",
    "\n",
    "xy = range(1,12,3) #range生成序列数\n",
    "print(xy)\n",
    "for i in xy:\n",
    "    print(i)\n",
    "    \n",
    "    \n",
    "months = ['Jan', 'Feb', 'Mar', 'Apr', 'May', 'Jun', 'Jul', 'Aug', 'Sep', 'Oct', 'Nov', 'Dec']\n",
    "new_m = []\n",
    "for m in months:\n",
    "    m = m+'_'\n",
    "    # print(m)\n",
    "    new_m.append(m)\n",
    "print(new_m)"
   ]
  },
  {
   "cell_type": "code",
   "execution_count": null,
   "id": "2085b6f5",
   "metadata": {},
   "outputs": [
    {
     "name": "stdout",
     "output_type": "stream",
     "text": [
      "9\n"
     ]
    }
   ],
   "source": [
    "# while \n",
    "sum = 0\n",
    "n = 5\n",
    "while n > 0:\n",
    "    sum = sum + n\n",
    "    n = n - 2\n",
    "print(sum)"
   ]
  },
  {
   "cell_type": "code",
   "execution_count": null,
   "id": "fceedbac",
   "metadata": {},
   "outputs": [
    {
     "name": "stdout",
     "output_type": "stream",
     "text": [
      "1\n",
      "2\n",
      "3\n",
      "4\n",
      "5\n",
      "END\n"
     ]
    }
   ],
   "source": [
    "# while, break\n",
    "n = 1\n",
    "while n <= 10:\n",
    "    if n > 5: # 当n = 11时，条件满足，执行break语句\n",
    "        break # break语句会结束当前循环\n",
    "    print(n)\n",
    "    n = n + 1\n",
    "print('END')"
   ]
  },
  {
   "cell_type": "code",
   "execution_count": null,
   "id": "bdee4277",
   "metadata": {},
   "outputs": [
    {
     "name": "stdout",
     "output_type": "stream",
     "text": [
      "1\n",
      "3\n",
      "5\n",
      "7\n",
      "9\n"
     ]
    }
   ],
   "source": [
    "# while, continue \n",
    "n = 0\n",
    "while n < 10:\n",
    "    n = n + 1\n",
    "    if n % 2 == 0: # 如果n是偶数，执行continue语句\n",
    "        continue # continue语句会直接继续下一轮循环，后续的print()语句不会执行\n",
    "    print(n)"
   ]
  },
  {
   "cell_type": "code",
   "execution_count": null,
   "id": "c1b6c43d",
   "metadata": {},
   "outputs": [],
   "source": [
    "#homework 1\n",
    "months = ['Jan', 'Feb', 'Mar', 'Apr', 'Jun',  'Aug', 'Sep',  'Nov', 'Dec']\n",
    "#查找缺失月份，并打印出来\n",
    "\n",
    "#homework 2\n",
    "a_list = [2,3,4,5,6,7,8,5,4,7,10,3,3,2,5,6,11]\n",
    "#输出非重复的序列值\n",
    "\n",
    "# homework 3\n",
    "a_list = [12,13,'data','today',['龚先生','真棒'],12]\n",
    "#将龚先生替换为自己的名字\n",
    "\n",
    "#homework 4 \n",
    "# 输入一个数，计算是否润年\n",
    "\n",
    "#homework 5\n",
    "#根据输入的AQI计算污染等级"
   ]
  }
 ],
 "metadata": {
  "kernelspec": {
   "display_name": "Python 3",
   "language": "python",
   "name": "python3"
  },
  "language_info": {
   "codemirror_mode": {
    "name": "ipython",
    "version": 3
   },
   "file_extension": ".py",
   "mimetype": "text/x-python",
   "name": "python",
   "nbconvert_exporter": "python",
   "pygments_lexer": "ipython3",
   "version": "3.9.6"
  }
 },
 "nbformat": 4,
 "nbformat_minor": 5
}
